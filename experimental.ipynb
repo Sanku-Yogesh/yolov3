{
 "cells": [
  {
   "cell_type": "code",
   "execution_count": 9,
   "metadata": {},
   "outputs": [
    {
     "name": "stdout",
     "output_type": "stream",
     "text": [
      "Namespace(agnostic_nms=False, augment=False, classes=None, conf_thres=0.25, device='', exist_ok=False, hide_conf=False, hide_labels=False, img_size=640, iou_thres=0.45, line_thickness=3, max_det=1000, name='exp', nosave=False, project='runs/detect', save_conf=False, save_crop=False, save_txt=False, source='data/images/bus.jpg', update=False, view_img=False, weights=['yolov3.pt'])\n",
      "\u001b[31m\u001b[1mrequirements:\u001b[0m requirements.txt not found, check failed.\n",
      "image 1/1 D:\\studies\\iitkgp\\mtp1\\Code repos\\Ultralytics\\yolov3\\data\\images\\bus.jpg: 640x480 4 persons, 1 bus, Done. (1.315s)\n",
      "Results saved to runs\\detect\\exp2\n",
      "Done. (1.371s)\n"
     ]
    },
    {
     "name": "stderr",
     "output_type": "stream",
     "text": [
      "YOLOv3  2021-9-9 torch 1.9.0 CPU\n",
      "\n",
      "Fusing layers... \n",
      "Model Summary: 261 layers, 61922845 parameters, 0 gradients\n"
     ]
    }
   ],
   "source": [
    "!python detect.py --weights yolov3.pt --img 640 --conf 0.25 --source data/images/bus.jpg"
   ]
  },
  {
   "cell_type": "code",
   "execution_count": null,
   "metadata": {},
   "outputs": [],
   "source": []
  }
 ],
 "metadata": {
  "kernelspec": {
   "display_name": "Python 3",
   "language": "python",
   "name": "python3"
  },
  "language_info": {
   "codemirror_mode": {
    "name": "ipython",
    "version": 3
   },
   "file_extension": ".py",
   "mimetype": "text/x-python",
   "name": "python",
   "nbconvert_exporter": "python",
   "pygments_lexer": "ipython3",
   "version": "3.8.5"
  }
 },
 "nbformat": 4,
 "nbformat_minor": 4
}
